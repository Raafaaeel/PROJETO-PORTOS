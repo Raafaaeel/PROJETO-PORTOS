{
  "nbformat": 4,
  "nbformat_minor": 0,
  "metadata": {
    "colab": {
      "provenance": [],
      "authorship_tag": "ABX9TyOWXZ7ZpOoEgI+Ae798P9iq"
    },
    "kernelspec": {
      "name": "python3",
      "display_name": "Python 3"
    },
    "language_info": {
      "name": "python"
    }
  },
  "cells": [
    {
      "cell_type": "code",
      "execution_count": 4,
      "metadata": {
        "colab": {
          "base_uri": "https://localhost:8080/"
        },
        "id": "_hKHilK9xUYL",
        "outputId": "80e7e553-0c65-4c5a-8bea-5314a3653fb4"
      },
      "outputs": [
        {
          "output_type": "stream",
          "name": "stdout",
          "text": [
            "Arquivo '/content/2025TaxaOcupacaoComCarga.txt' convertido para 'dados2.csv' sem acentos.\n"
          ]
        }
      ],
      "source": [
        "import unicodedata\n",
        "import csv\n",
        "\n",
        "def remove_acentos(texto):\n",
        "    \"\"\"Remove todos os acentos de uma string.\"\"\"\n",
        "    return \"\".join([\n",
        "        c for c in unicodedata.normalize(\"NFKD\", texto)\n",
        "        if not unicodedata.combining(c)\n",
        "    ])\n",
        "\n",
        "# Nomes dos arquivos de entrada e saída\n",
        "arquivo_txt = '/content/2025TaxaOcupacaoComCarga.txt' # Agora é apenas o nome do arquivo\n",
        "arquivo_csv = 'dados2.csv'\n",
        "\n",
        "try:\n",
        "    # Abrir o arquivo de texto para leitura\n",
        "    # Tente 'latin1' se 'utf-8' apresentar erros de caracteres\n",
        "    with open(arquivo_txt, 'r', encoding='latin1') as f_txt:\n",
        "        # Abrir o arquivo CSV para escrita\n",
        "        with open(arquivo_csv, 'w', newline='', encoding='utf-8') as f_csv:\n",
        "            # Criar um objeto de escrita CSV\n",
        "            writer = csv.writer(f_csv, delimiter=';')\n",
        "\n",
        "            # Ler linha por linha do arquivo de entrada\n",
        "            for linha in f_txt:\n",
        "                linha_sem_acento = remove_acentos(linha)\n",
        "                # Remove espaços em branco extras e divide a linha pelo ';'\n",
        "                colunas = linha_sem_acento.strip().split(';')\n",
        "                # Escreve a lista de colunas no arquivo CSV\n",
        "                writer.writerow(colunas)\n",
        "\n",
        "    print(f\"Arquivo '{arquivo_txt}' convertido para '{arquivo_csv}' sem acentos.\")\n",
        "\n",
        "except FileNotFoundError:\n",
        "    print(f\"Erro: O arquivo '{arquivo_txt}' não foi encontrado.\")\n",
        "except Exception as e:\n",
        "    print(f\"Ocorreu um erro: {e}\")\n",
        "\n",
        "\n",
        "\n",
        "# O resultado arquivo está saindo com um texto \"i»¿\"\n",
        "# BOM (Byte Order Mark). É um conjunto de caracteres invisíveis que alguns editores de texto (como o Bloco de Notas do Windows)\n",
        "# colocam no início de um arquivo para indicar que ele está codificado em UTF-8.\n",
        "# O problema acontece porque o código está lendo esse arquivo (que tem o \"rótulo\" BOM)\n",
        "# usando a codificação latin1. A codificação latin1 não entende o que é o BOM e, em vez de ignorá-lo, o interpreta como os três caracteres ï, », e ¿.\n"
      ]
    },
    {
      "cell_type": "code",
      "source": [],
      "metadata": {
        "id": "c0XmY81dxb4v"
      },
      "execution_count": null,
      "outputs": []
    }
  ]
}