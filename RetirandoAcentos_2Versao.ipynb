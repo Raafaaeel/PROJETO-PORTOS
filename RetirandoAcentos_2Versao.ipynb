{
  "nbformat": 4,
  "nbformat_minor": 0,
  "metadata": {
    "colab": {
      "provenance": [],
      "authorship_tag": "ABX9TyP6odjWwqHbJUQoMfLFN8DK",
      "include_colab_link": true
    },
    "kernelspec": {
      "name": "python3",
      "display_name": "Python 3"
    },
    "language_info": {
      "name": "python"
    }
  },
  "cells": [
    {
      "cell_type": "markdown",
      "metadata": {
        "id": "view-in-github",
        "colab_type": "text"
      },
      "source": [
        "<a href=\"https://colab.research.google.com/github/Raafaaeel/PROJETO-PORTOS/blob/main/RetirandoAcentos_2Versao.ipynb\" target=\"_parent\"><img src=\"https://colab.research.google.com/assets/colab-badge.svg\" alt=\"Open In Colab\"/></a>"
      ]
    },
    {
      "cell_type": "code",
      "execution_count": 2,
      "metadata": {
        "colab": {
          "base_uri": "https://localhost:8080/"
        },
        "id": "30IR_JSm5RxD",
        "outputId": "68eacd1e-9434-4a34-b4eb-53ee9b53d359"
      },
      "outputs": [
        {
          "output_type": "stream",
          "name": "stdout",
          "text": [
            "Arquivo '/content/2025TaxaOcupacaoComCarga.txt' convertido para 'dados4.csv' sem acentos e sem BOM.\n"
          ]
        }
      ],
      "source": [
        "# A solução encontrada dizer ao Python para ler o arquivo de entrada usando a codificação correta, que reconhece e descarta o BOM automaticamente. Essa codificação é a 'utf-8-sig'.\n",
        "# Como estava:\n",
        "\n",
        "#     with open(arquivo_txt, 'r', encoding='latin1') as f_txt:\n",
        "\n",
        "# Como ficou\n",
        "\n",
        "#     with open(arquivo_txt, 'r', encoding='utf-8-sig') as f_txt:\n",
        "\n",
        "import unicodedata\n",
        "import csv\n",
        "\n",
        "def remove_acentos(texto):\n",
        "    \"\"\"Remove todos os acentos de uma string.\"\"\"\n",
        "    return \"\".join([\n",
        "        c for c in unicodedata.normalize(\"NFKD\", texto)\n",
        "        if not unicodedata.combining(c)\n",
        "    ])\n",
        "\n",
        "# Nomes dos arquivos de entrada e saída\n",
        "arquivo_txt = '/content/2025TaxaOcupacaoComCarga.txt'\n",
        "arquivo_csv = 'dados4.csv'\n",
        "\n",
        "try:\n",
        "    # Abrir o arquivo de texto para leitura usando 'utf-8-sig' para remover o BOM\n",
        "    with open(arquivo_txt, 'r', encoding='utf-8-sig') as f_txt:\n",
        "        # Abrir o arquivo CSV para escrita\n",
        "        with open(arquivo_csv, 'w', newline='', encoding='utf-8') as f_csv:\n",
        "            # Criar um objeto de escrita CSV\n",
        "            writer = csv.writer(f_csv, delimiter=';')\n",
        "\n",
        "            # Ler linha por linha do arquivo de entrada\n",
        "            for linha in f_txt:\n",
        "                linha_sem_acento = remove_acentos(linha)\n",
        "                # Remove espaços em branco extras e divide a linha pelo ';'\n",
        "                colunas = linha_sem_acento.strip().split(';')\n",
        "                # Escreve a lista de colunas no arquivo CSV\n",
        "                writer.writerow(colunas)\n",
        "\n",
        "    print(f\"Arquivo '{arquivo_txt}' convertido para '{arquivo_csv}' sem acentos e sem BOM.\")\n",
        "\n",
        "except FileNotFoundError:\n",
        "    print(f\"Erro: O arquivo '{arquivo_txt}' não foi encontrado.\")\n",
        "except Exception as e:\n",
        "    print(f\"Ocorreu um erro: {e}\")"
      ]
    }
  ]
}